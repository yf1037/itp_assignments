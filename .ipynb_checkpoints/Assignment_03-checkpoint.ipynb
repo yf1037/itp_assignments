{
 "cells": [
  {
   "cell_type": "markdown",
   "metadata": {},
   "source": [
    "# Introduction to Programming (Fall 2018)\n",
    "\n",
    "## Assignment 3 (Due date: 18 Nov 2018, by midnight)"
   ]
  },
  {
   "cell_type": "markdown",
   "metadata": {},
   "source": [
    "### Question 1\n",
    "\n",
    "#### String Handling\n",
    "#### 1.1) \n",
    "Complete the following function which checks whether a DNA sequence is valid. A valid DNA sequence will only contain **'A,a,C,c,G,g,T,t'** characters for this question. If the sequence is valid return **True**, otherwise return **False**.\n",
    "\n",
    "*When running the block, the assert statements will raise errors if your program does not return the correct response.*\n"
   ]
  },
  {
   "cell_type": "code",
   "execution_count": 13,
   "metadata": {},
   "outputs": [],
   "source": [
    "def validity_check(sequence):\n",
    "    import re\n",
    "    if re.findall('[agctAGCT]',sequence)==list(sequence):\n",
    "        return True\n",
    "    return False\n",
    "\n",
    "assert validity_check('ACGT') == True, 'validity_check(\"ACGT\") returns False, should return True'\n",
    "assert validity_check('acgt') == True, 'validity_check(\"acgt\") returns False, should return True'\n",
    "assert validity_check('AGUC') == False, 'validity_check(\"AGUC\") returns True, should return False'\n",
    "assert validity_check('PPPP') == False, 'validity_check(\"PPPP\") returns True, should return False'"
   ]
  },
  {
   "cell_type": "markdown",
   "metadata": {},
   "source": [
    "#### 1.2)\n",
    "Complete the following function which will return the reverse complement of a DNA sequence.\n",
    "\n",
    "The reverse complement is calculated by reversing the sequence and substituting: \n",
    "+ 'A' with 'T'\n",
    "+ 'T' with 'A'\n",
    "+ 'G' with 'C'\n",
    "+ 'C' with 'G'\n",
    "\n",
    "EG:\n",
    "```\n",
    "reverse_complement('AATC')\n",
    "\n",
    "step 1 - reverse the sequence:\n",
    "    reverse = 'CTAA'\n",
    "    \n",
    "step 2 - replace the characters with their complement:\n",
    "    'C' -> 'G'\n",
    "    'T' -> 'A'\n",
    "    'A' -> 'T'\n",
    "    'A' -> 'T'\n",
    "    \n",
    "    complement = 'GATT' \n",
    "```\n",
    "\n",
    "*When running the block, the assert statements will raise errors if your program does not return the correct response.*"
   ]
  },
  {
   "cell_type": "code",
   "execution_count": 26,
   "metadata": {},
   "outputs": [],
   "source": [
    "def reverse_complement(sequence):\n",
    "    seq=sequence[::-1]\n",
    "    lst1=['C' if x=='G' or x=='g' else x for x in seq]\n",
    "\n",
    "    i=0\n",
    "    for x in seq:\n",
    "        if x=='C' or x=='c':\n",
    "            lst1[i]='G'\n",
    "        elif x=='A' or x=='a':\n",
    "            lst1[i]='T'\n",
    "        elif x=='T' or x=='t':\n",
    "            lst1[i]='A'\n",
    "        i+=1\n",
    "    \n",
    "    sequence=''.join(lst1) \n",
    "    return sequence\n",
    "\n",
    "assert reverse_complement('AAGCT') == 'AGCTT', 'reverse_complement(\"AAGCT\") should return \"AGCTT\"'\n",
    "assert reverse_complement('tggca') in ['tgcca','TGCCA'], 'reverse_complement(\"tggca\") should return \"tgcca\"'"
   ]
  },
  {
   "cell_type": "markdown",
   "metadata": {},
   "source": [
    "#### 1.3)\n",
    "\n",
    "Write a script which will allow a user to input multiple DNA sequences one at a time. You do not know how many in advance and should take this into account. Your code will then check if the sequence is valid and return the reverse complement if it is. If the sequence is not valid, print an error message alerting the user to this.\n",
    "\n",
    "It would be a good idea to use the functions you created in 1.1 and 1.2\n",
    "\n",
    "```\n",
    "PSEUDOCODE:\n",
    "loop until '' is entered:\n",
    "    prompt user for a new seq\n",
    "    if seq is valid:\n",
    "        output reverse complement\n",
    "    else\n",
    "        output error message indicating that sequence was invalid\n",
    "```"
   ]
  },
  {
   "cell_type": "code",
   "execution_count": 60,
   "metadata": {},
   "outputs": [
    {
     "name": "stdout",
     "output_type": "stream",
     "text": [
      "enter a DNA sequence:afew\n",
      "Please input a DNA sequence!\n",
      "enter a DNA sequence:AGCT\n",
      "AGCT\n",
      "enter a DNA sequence:AAGCT\n",
      "AGCTT\n",
      "enter a DNA sequence:\n"
     ]
    }
   ],
   "source": [
    "while True:\n",
    "    seq = input('enter a DNA sequence:') \n",
    "    if not seq:\n",
    "        break\n",
    "    if validity_check(seq):\n",
    "        print(reverse_complement(seq))\n",
    "    else:\n",
    "        print('Please input a DNA sequence!')        "
   ]
  },
  {
   "cell_type": "markdown",
   "metadata": {},
   "source": [
    "### Question 2\n",
    "\n",
    "In cryptography there are many ways to code messages. An easy method is to shift the alphabet by a given amount, this is known as a Caesar Cipher http://practicalcryptography.com/ciphers/caesar-cipher/.\n",
    "\n",
    "EG:\n",
    "\n",
    "Shift|A|B|C|D|E|F|G|H|I|J|K|L|M|N|O|P|Q|R|S|T|U|V|W|X|Y|Z|\n",
    "-|-|-|-|-|-|-|-|-|-|-|-|-|-|-|-|-|-|-|-|-|-|-|-|-|-|-|\n",
    "1|B|C|D|E|F|G|H|I|J|K|L|M|N|O|P|Q|R|S|T|U|V|W|X|Y|Z|A|\n",
    "2|C|D|E|F|G|H|I|J|K|L|M|N|O|P|Q|R|S|T|U|V|W|X|Y|Z|A|B|\n",
    "10|K|L|M|N|O|P|Q|R|S|T|U|V|W|X|Y|Z|A|B|C|D|E|F|G|H|I|J|\n",
    "\n",
    "In the case of using an alphabet which has been shifted by 1, 'A' will be replaced with 'B', 'B' will be replaced with 'C', ..., 'Z' is replaced with 'A'.\n",
    "\n",
    "#### 2.1)\n",
    "Complete the following function which takes a string and an integer which represents the shift and returns an encoded string."
   ]
  },
  {
   "cell_type": "code",
   "execution_count": 26,
   "metadata": {},
   "outputs": [],
   "source": [
    "def encode_string(message, shift=5):\n",
    "    message=[chr(ord(a) + shift) if ord(a)+shift<=90 else chr(ord(a)+shift-90+64) for a in message]\n",
    "    message=''.join(message)\n",
    "    return message\n",
    "\n",
    "assert encode_string('ABCD', 1) == 'BCDE', \"encode_string('ABCD', 1) should return 'BCDE'\"\n",
    "assert encode_string('FOOBAR', 3) == 'IRREDU', \"encode_string('FOOBAR', 3) should return 'IRREDU'\"\n",
    "assert encode_string('XYZ') == 'CDE', \"encode_string('XYZ', 3) should return 'CDE'\""
   ]
  },
  {
   "cell_type": "markdown",
   "metadata": {},
   "source": [
    "#### 2.2)\n",
    "\n",
    "Complete the following function which takes a string and an integer which represents the shift and returns the decoded message"
   ]
  },
  {
   "cell_type": "code",
   "execution_count": 32,
   "metadata": {},
   "outputs": [],
   "source": [
    "def decode_string(message, shift=5):\n",
    "    message=[chr(ord(a) - shift) if ord(a)-shift>=65 else chr(ord(a)-shift+91-65) for a in message]\n",
    "    message=''.join(message)\n",
    "    return message\n",
    "\n",
    "assert decode_string('MNO', 10) == 'CDE', \"decode_string('MNO', 10) should return 'CDE'\"\n",
    "assert decode_string('PYTHON') == 'KTOCJI', \"decode_string('PYTHON') should return 'KTOCJI'\"\n",
    "\n",
    "assert decode_string(encode_string('ABCD', 1), 1) == 'ABCD', \"decode_string(encode_string('ABCD', 1), 1) should return 'ABCD'\"\n",
    "assert decode_string(encode_string('FOOBAR', 3), 3) == 'FOOBAR', \"decode_string(encode_string('FOOBAR', 3), 3) should return 'FOOBAR'\"\n",
    "assert decode_string(encode_string('XYZ')) == 'XYZ', \"decode_string(encode_string('XYZ')) should return 'XYZ'\""
   ]
  },
  {
   "cell_type": "markdown",
   "metadata": {},
   "source": [
    "### Question 3\n",
    "\n",
    "Write code which will reproduce each of the following patterns given an input size N\n",
    "\n",
    "Example:\n",
    "\n",
    "```\n",
    "N = 10\n",
    "\n",
    " x x x x x x x x x x\n",
    " x o x o x o x o x o\n",
    " x x x x x x x x x x\n",
    " x o x o x o x o x o\n",
    " x x x x x x x x x x\n",
    " x o x o x o x o x o\n",
    " x x x x x x x x x x\n",
    " x o x o x o x o x o\n",
    " x x x x x x x x x x\n",
    " x o x o x o x o x o\n",
    "\n",
    "```"
   ]
  },
  {
   "cell_type": "code",
   "execution_count": 27,
   "metadata": {},
   "outputs": [
    {
     "name": "stdout",
     "output_type": "stream",
     "text": [
      " x x x x x x x x x x\n",
      " x o x o x o x o x o\n",
      " x x x x x x x x x x\n",
      " x o x o x o x o x o\n",
      " x x x x x x x x x x\n",
      " x o x o x o x o x o\n",
      " x x x x x x x x x x\n",
      " x o x o x o x o x o\n",
      " x x x x x x x x x x\n",
      " x o x o x o x o x o\n"
     ]
    }
   ],
   "source": [
    "N = 10\n",
    "pattern = [[' o' for x in range(N)] for y in range(N)]\n",
    "\n",
    "for j in range(N):\n",
    "    for i  in range(N):\n",
    "        if j%2 == 0 or i%2 == 0:\n",
    "            pattern[j][i] = ' x'\n",
    "\n",
    "for row in pattern:\n",
    "    print(''.join(row))"
   ]
  },
  {
   "cell_type": "markdown",
   "metadata": {},
   "source": [
    "#### 3.1)\n",
    "\n",
    "```\n",
    "N = 10\n",
    "\n",
    " x x x x x x x x x x\n",
    " x o o o o o o o o x\n",
    " x o o o o o o o o x\n",
    " x o o o o o o o o x\n",
    " x o o o o o o o o x\n",
    " x o o o o o o o o x\n",
    " x o o o o o o o o x\n",
    " x o o o o o o o o x\n",
    " x o o o o o o o o x\n",
    " x x x x x x x x x x\n",
    "```"
   ]
  },
  {
   "cell_type": "code",
   "execution_count": 29,
   "metadata": {},
   "outputs": [
    {
     "name": "stdout",
     "output_type": "stream",
     "text": [
      "x x x x x x x x x x\n",
      "x o o o o o o o o x\n",
      "x o o o o o o o o x\n",
      "x o o o o o o o o x\n",
      "x o o o o o o o o x\n",
      "x o o o o o o o o x\n",
      "x o o o o o o o o x\n",
      "x o o o o o o o o x\n",
      "x o o o o o o o o x\n",
      "x x x x x x x x x x\n"
     ]
    }
   ],
   "source": [
    "import numpy as np\n",
    "\n",
    "N=10\n",
    "\n",
    "pattern=np.tile('o',(N,N))\n",
    "pattern[0,]='x'\n",
    "pattern[-1,]='x'\n",
    "pattern[:,0]='x'\n",
    "pattern[:,-1]='x'\n",
    "\n",
    "print('\\n'.join([' '.join(row) for row in pattern]))"
   ]
  },
  {
   "cell_type": "markdown",
   "metadata": {},
   "source": [
    "#### 3.2)\n",
    "\n",
    "```\n",
    "N = 9\n",
    "\n",
    " x o o o o o o o x\n",
    " o x o o o o o x o\n",
    " o o x o o o x o o\n",
    " o o o x o x o o o\n",
    " o o o o x o o o o\n",
    " o o o x o x o o o\n",
    " o o x o o o x o o\n",
    " o x o o o o o x o\n",
    " x o o o o o o o x\n",
    " \n",
    "N = 10\n",
    "\n",
    " x o o o o o o o o x\n",
    " o x o o o o o o x o\n",
    " o o x o o o o x o o\n",
    " o o o x o o x o o o\n",
    " o o o o x x o o o o\n",
    " o o o o x x o o o o\n",
    " o o o x o o x o o o\n",
    " o o x o o o o x o o\n",
    " o x o o o o o o x o\n",
    " x o o o o o o o o x\n",
    "\n",
    "\n",
    "```"
   ]
  },
  {
   "cell_type": "code",
   "execution_count": 96,
   "metadata": {},
   "outputs": [
    {
     "name": "stdout",
     "output_type": "stream",
     "text": [
      "x o o o o o o o x\n",
      "o x o o o o o x o\n",
      "o o x o o o x o o\n",
      "o o o x o x o o o\n",
      "o o o o x o o o o\n",
      "o o o x o x o o o\n",
      "o o x o o o x o o\n",
      "o x o o o o o x o\n",
      "x o o o o o o o x\n"
     ]
    }
   ],
   "source": [
    "N=9\n",
    "\n",
    "pattern=np.tile('o',(N,N))\n",
    "np.fill_diagonal(pattern, 'x')\n",
    "pattern=np.flip(pattern,axis=1)\n",
    "np.fill_diagonal(pattern, 'x')\n",
    "\n",
    "print('\\n'.join([' '.join(row) for row in pattern]))"
   ]
  },
  {
   "cell_type": "markdown",
   "metadata": {},
   "source": [
    "#### 3.3)\n",
    "\n",
    "```\n",
    "N = 10\n",
    "\n",
    " o x o x o x o x o x\n",
    " x o x o x o x o x o\n",
    " o x o x o x o x o x\n",
    " x o x o x o x o x o\n",
    " o x o x o x o x o x\n",
    " x o x o x o x o x o\n",
    " o x o x o x o x o x\n",
    " x o x o x o x o x o\n",
    " o x o x o x o x o x\n",
    " x o x o x o x o x o\n",
    "\n",
    "```"
   ]
  },
  {
   "cell_type": "code",
   "execution_count": 129,
   "metadata": {},
   "outputs": [
    {
     "name": "stdout",
     "output_type": "stream",
     "text": [
      "o x o x o x o x o x\n",
      "x o x o x o x o x o\n",
      "o x o x o x o x o x\n",
      "x o x o x o x o x o\n",
      "o x o x o x o x o x\n",
      "x o x o x o x o x o\n",
      "o x o x o x o x o x\n",
      "x o x o x o x o x o\n",
      "o x o x o x o x o x\n",
      "x o x o x o x o x o\n"
     ]
    }
   ],
   "source": [
    "N=10\n",
    "\n",
    "pattern1=list(np.tile(['o','x'],N//2))\n",
    "pattern2=list(np.tile(['x','o'],N//2))\n",
    "if N%2:\n",
    "    pattern1.append('o')\n",
    "    pattern2.append('x')\n",
    "pattern3=np.stack((pattern1,pattern2))\n",
    "pattern=np.concatenate([pattern3 for _ in range(N//2)], axis=0)\n",
    "if N%2:\n",
    "    pattern=np.concatenate((pattern,[pattern1]),axis=0)\n",
    "\n",
    "print('\\n'.join([' '.join(row) for row in pattern]))"
   ]
  },
  {
   "cell_type": "markdown",
   "metadata": {},
   "source": [
    "#### 3.4)\n",
    "\n",
    "```\n",
    "N = 9\n",
    " x x x x x x x x x\n",
    " x x x x o x x x x\n",
    " x x x o o o x x x\n",
    " x x o o o o o x x\n",
    " x o o o o o o o x\n",
    " x x o o o o o x x\n",
    " x x x o o o x x x\n",
    " x x x x o x x x x\n",
    " x x x x x x x x x\n",
    "\n",
    "\n",
    "N = 10\n",
    "\n",
    " x x x x x x x x x x\n",
    " x x x x o o x x x x\n",
    " x x x o o o o x x x\n",
    " x x o o o o o o x x\n",
    " x o o o o o o o o x\n",
    " x o o o o o o o o x\n",
    " x x o o o o o o x x\n",
    " x x x o o o o x x x\n",
    " x x x x o o x x x x\n",
    " x x x x x x x x x x\n",
    "```"
   ]
  },
  {
   "cell_type": "code",
   "execution_count": 13,
   "metadata": {},
   "outputs": [
    {
     "name": "stdout",
     "output_type": "stream",
     "text": [
      "x x x x x x x x x\n",
      "x x x x o x x x x\n",
      "x x x o o o x x x\n",
      "x x o o o o o x x\n",
      "x o o o o o o o x\n",
      "x x o o o o o x x\n",
      "x x x o o o x x x\n",
      "x x x x o x x x x\n",
      "x x x x x x x x x\n"
     ]
    }
   ],
   "source": [
    "import math\n",
    "\n",
    "N=9\n",
    "\n",
    "quadrant=math.ceil(N/2)\n",
    "pattern1=np.tile('o',(quadrant,quadrant))\n",
    "pattern1[np.triu_indices(quadrant)]='x'\n",
    "pattern2=np.flip(pattern1,axis=1)\n",
    "pattern3=np.flip(pattern2,axis=0)\n",
    "pattern4=np.flip(pattern3,axis=1)\n",
    "if N%2:\n",
    "    patternup=np.concatenate((pattern2,pattern1[:,1:quadrant]),axis=1)\n",
    "    patterndown=np.concatenate((pattern3[1:quadrant,],pattern4[1:quadrant,1:quadrant]),axis=1)\n",
    "else:\n",
    "    patternup=np.concatenate((pattern2,pattern1),axis=1)\n",
    "    patterndown=np.concatenate((pattern3,pattern4),axis=1)\n",
    "pattern=np.concatenate((patternup,patterndown),axis=0)\n",
    "\n",
    "print('\\n'.join([' '.join(row) for row in pattern]))"
   ]
  }
 ],
 "metadata": {
  "kernelspec": {
   "display_name": "Python 3",
   "language": "python",
   "name": "python3"
  },
  "language_info": {
   "codemirror_mode": {
    "name": "ipython",
    "version": 3
   },
   "file_extension": ".py",
   "mimetype": "text/x-python",
   "name": "python",
   "nbconvert_exporter": "python",
   "pygments_lexer": "ipython3",
   "version": "3.7.0"
  }
 },
 "nbformat": 4,
 "nbformat_minor": 2
}
